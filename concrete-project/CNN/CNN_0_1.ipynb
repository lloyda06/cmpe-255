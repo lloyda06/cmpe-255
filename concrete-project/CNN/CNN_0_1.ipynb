{
 "cells": [
  {
   "cell_type": "code",
   "execution_count": 3,
   "metadata": {
    "id": "7rhDdGBKdRVX",
    "scrolled": true
   },
   "outputs": [],
   "source": [
    "import numpy as np\n",
    "import scipy as sp\n",
    "import pandas as pd\n",
    "import sklearn as sk\n",
    "import PIL\n",
    "%matplotlib inline\n",
    "import matplotlib.pyplot as plt\n",
    "\n",
    "from sklearn import metrics\n",
    "from collections import defaultdict\n",
    "from os import listdir\n",
    "import os\n",
    "from joblib import dump, load\n",
    "\n",
    "from skimage.feature import hog\n",
    "from skimage.io import imread\n",
    "from skimage.transform import rescale\n",
    "from sklearn.model_selection import train_test_split\n",
    "\n",
    "import tensorflow as tf \n",
    "from tensorflow.keras.layers import Conv2D, BatchNormalization, Input, Dense, GlobalAveragePooling2D\n",
    "from tensorflow.keras.models import Model\n",
    "from tensorflow.keras.preprocessing.image import ImageDataGenerator\n",
    "from tensorflow.keras.optimizers import Adam\n",
    "\n",
    "from sklearn.metrics import precision_recall_curve\n",
    "from sklearn.metrics import accuracy_score\n",
    "from sklearn.metrics import f1_score\n",
    "from sklearn.metrics import precision_score\n",
    "from sklearn.metrics import recall_score"
   ]
  },
  {
   "cell_type": "code",
   "execution_count": 2,
   "metadata": {
    "id": "sZ6XVidUdRVa",
    "tags": []
   },
   "outputs": [
    {
     "name": "stdout",
     "output_type": "stream",
     "text": [
      "loadAndScaleImages\n",
      "(56092, 256, 256, 3)\n",
      "(56092,)\n"
     ]
    }
   ],
   "source": [
    "### Only run if you re-downloaded the files and need to process them into memory\n",
    "cracked_labels = set()\n",
    "labels = []\n",
    "image_files = []\n",
    "structures = [\"D\", \"P\", \"W\"]\n",
    "\n",
    "def loadAndScaleImages(filelist):\n",
    "    print(\"loadAndScaleImages\")\n",
    "    imgdata = []\n",
    "    for file in filelist:\n",
    "        data = imread(file, as_gray=False)\n",
    "        imgdata.append(data)\n",
    "    return np.array(imgdata)\n",
    "\n",
    "\n",
    "if os.path.exists(\"data/SDNET2018_X.npy\"):\n",
    "\n",
    "    image_data = np.load(\"data/SDNET2018_X.npy\")\n",
    "    labels = np.load(\"data/SDNET2018_y.npy\")\n",
    "\n",
    "else:\n",
    "    for structure in structures:\n",
    "\n",
    "        img_folder = \"data/SDNET2018/\" + structure + \"/\"\n",
    "\n",
    "        for CU_directory in listdir(img_folder):\n",
    "\n",
    "            for filename in listdir(img_folder+CU_directory):\n",
    "\n",
    "                if filename.endswith(\"jpg\"):\n",
    "                    image_file = img_folder + \"/\" + CU_directory + \"/\" + filename\n",
    "                    image_files.append(image_file)\n",
    "                    if 'C' in CU_directory:\n",
    "                        labels.append(1)\n",
    "                    else:\n",
    "                        labels.append(0)\n",
    "                else:\n",
    "                    print(\"bad name -> \" + filename)\n",
    "\n",
    "    image_data = loadAndScaleImages(image_files)\n",
    "    print(image_data.shape)\n",
    "\n",
    "    labels = np.array(labels)\n",
    "    print(labels.shape)\n",
    "    \n",
    "    save_path_x_data = \"data/SDNET2018_X.npy\"\n",
    "    save_path_y_data = \"data/SDNET2018_y.npy\"\n",
    "\n",
    "    np.save(save_path_x_data, image_data)\n",
    "    np.save(save_path_y_data, labels)"
   ]
  },
  {
   "cell_type": "code",
   "execution_count": 8,
   "metadata": {},
   "outputs": [
    {
     "name": "stdout",
     "output_type": "stream",
     "text": [
      "All X data shape:  (56092, 256, 256, 3)\n",
      "All y data shape:  (56092,)\n",
      "X train shape:  (44873, 256, 256, 3)\n",
      "y train shape:  (44873,)\n",
      "X val shape:  (11219, 256, 256, 3)\n",
      "y val shape:  (11219,)\n"
     ]
    }
   ],
   "source": [
    "#Only run to update the train/test split\n",
    "print('All X data shape: ', image_data.shape)\n",
    "print('All y data shape: ', labels.shape)\n",
    "X_train, X_test, y_train, y_test = train_test_split(image_data, labels, test_size=0.2)\n",
    "\n",
    "print('X train shape: ', X_train.shape)\n",
    "print('y train shape: ', y_train.shape)\n",
    "print('X val shape: ', X_test.shape)\n",
    "print('y val shape: ', y_test.shape)"
   ]
  },
  {
   "cell_type": "code",
   "execution_count": 41,
   "metadata": {},
   "outputs": [],
   "source": [
    "# set class weights for model\n",
    "class_weight = {0: 0.1,\n",
    "                 1: 1.0}"
   ]
  },
  {
   "cell_type": "code",
   "execution_count": 43,
   "metadata": {
    "id": "Q_ViLiCgdRVd"
   },
   "outputs": [
    {
     "name": "stdout",
     "output_type": "stream",
     "text": [
      "Model: \"functional_7\"\n",
      "_________________________________________________________________\n",
      "Layer (type)                 Output Shape              Param #   \n",
      "=================================================================\n",
      "input_4 (InputLayer)         [(None, 256, 256, 3)]     0         \n",
      "_________________________________________________________________\n",
      "conv2d_12 (Conv2D)           (None, 254, 254, 16)      448       \n",
      "_________________________________________________________________\n",
      "batch_normalization_12 (Batc (None, 254, 254, 16)      64        \n",
      "_________________________________________________________________\n",
      "conv2d_13 (Conv2D)           (None, 126, 126, 32)      4640      \n",
      "_________________________________________________________________\n",
      "batch_normalization_13 (Batc (None, 126, 126, 32)      128       \n",
      "_________________________________________________________________\n",
      "conv2d_14 (Conv2D)           (None, 62, 62, 64)        18496     \n",
      "_________________________________________________________________\n",
      "batch_normalization_14 (Batc (None, 62, 62, 64)        256       \n",
      "_________________________________________________________________\n",
      "conv2d_15 (Conv2D)           (None, 30, 30, 64)        36928     \n",
      "_________________________________________________________________\n",
      "batch_normalization_15 (Batc (None, 30, 30, 64)        256       \n",
      "_________________________________________________________________\n",
      "global_average_pooling2d_3 ( (None, 64)                0         \n",
      "_________________________________________________________________\n",
      "dense_3 (Dense)              (None, 1)                 65        \n",
      "=================================================================\n",
      "Total params: 61,281\n",
      "Trainable params: 60,929\n",
      "Non-trainable params: 352\n",
      "_________________________________________________________________\n"
     ]
    }
   ],
   "source": [
    "def construct_model():\n",
    "\n",
    "    model_input = Input(shape=(256, 256, 3))\n",
    "    x = Conv2D(16, kernel_size=3, activation='relu')(model_input)\n",
    "    x = BatchNormalization()(x)\n",
    "\n",
    "    x = Conv2D(32, kernel_size=3, activation='relu', strides=2)(x)\n",
    "    x = BatchNormalization()(x)\n",
    "\n",
    "    x = Conv2D(64, kernel_size=3, activation='relu', strides=2)(x)\n",
    "    x = BatchNormalization()(x)\n",
    "\n",
    "    x = Conv2D(64, kernel_size=3, activation='relu', strides=2)(x)\n",
    "    x = BatchNormalization()(x)\n",
    "    x = GlobalAveragePooling2D()(x)\n",
    "\n",
    "    model_output = Dense(1, activation='sigmoid')(x)\n",
    "\n",
    "    return Model(inputs=[model_input], outputs=[model_output])\n",
    "\n",
    "model = construct_model()\n",
    "model.summary()"
   ]
  },
  {
   "cell_type": "code",
   "execution_count": 44,
   "metadata": {
    "id": "DWfRRPODYxL7"
   },
   "outputs": [],
   "source": [
    "opt = Adam(learning_rate=0.0001)\n",
    "model.compile(optimizer=opt, loss=tf.keras.losses.Hinge(reduction=\"auto\", name=\"hinge\"), metrics=['accuracy'])"
   ]
  },
  {
   "cell_type": "code",
   "execution_count": 77,
   "metadata": {
    "colab": {
     "base_uri": "https://localhost:8080/"
    },
    "id": "cXsixyl_YeID",
    "outputId": "cfb7f2ad-c20e-44a5-e37e-ccf30a778b57",
    "scrolled": true
   },
   "outputs": [
    {
     "name": "stdout",
     "output_type": "stream",
     "text": [
      "Epoch 1/5\n",
      "141/141 [==============================] - 148s 1s/step - loss: 0.2216 - accuracy: 0.8425\n",
      "Epoch 2/5\n",
      "141/141 [==============================] - 141s 1s/step - loss: 0.1920 - accuracy: 0.6620\n",
      "Epoch 3/5\n",
      "141/141 [==============================] - 140s 992ms/step - loss: 0.1817 - accuracy: 0.6232\n",
      "Epoch 4/5\n",
      "141/141 [==============================] - 136s 968ms/step - loss: 0.1845 - accuracy: 0.6003\n",
      "Epoch 5/5\n",
      "141/141 [==============================] - 136s 966ms/step - loss: 0.1807 - accuracy: 0.6023\n"
     ]
    }
   ],
   "source": [
    "model.fit(X_train, y_train, epochs=5, batch_size=32, class_weight=class_weight)"
   ]
  },
  {
   "cell_type": "code",
   "execution_count": 47,
   "metadata": {
    "colab": {
     "base_uri": "https://localhost:8080/"
    },
    "id": "zhdPbVuzMjRW",
    "outputId": "285b20b5-2280-4b6e-e0c9-3d22fc58a7ed"
   },
   "outputs": [],
   "source": [
    "model.save('concrete_0.3.h5')"
   ]
  },
  {
   "cell_type": "code",
   "execution_count": 85,
   "metadata": {
    "id": "VwibYIFXZywS"
   },
   "outputs": [],
   "source": [
    "y_pred = model.predict(X_test)"
   ]
  },
  {
   "cell_type": "code",
   "execution_count": 90,
   "metadata": {},
   "outputs": [
    {
     "name": "stdout",
     "output_type": "stream",
     "text": [
      "1656\n",
      "8158\n",
      "11219\n",
      "accuracy:  0.3901417238613067\n",
      "f1_score:  0.3028326879967393\n",
      "precision:  0.8973429951690821\n",
      "recall:  0.18215248835498896\n"
     ]
    },
    {
     "data": {
      "text/plain": [
       "Text(0.5, 1.0, 'CNN PR Curve')"
      ]
     },
     "execution_count": 90,
     "metadata": {},
     "output_type": "execute_result"
    },
    {
     "data": {
      "image/png": "[encoded data removed]",
      "text/plain": [
       "<Figure size 432x288 with 1 Axes>"
      ]
     },
     "metadata": {
      "needs_background": "light"
     },
     "output_type": "display_data"
    }
   ],
   "source": [
    "y_pred_thresh = y_pred > 0.5\n",
    "\n",
    "count = 0\n",
    "for y in y_pred_thresh:\n",
    "    if y > 0:\n",
    "        count += 1\n",
    "\n",
    "count2 = 0\n",
    "for y in y_test:\n",
    "    if y > 0:\n",
    "        count2 +=1\n",
    "        \n",
    "print(count2)\n",
    "print(count)\n",
    "print(y_pred.shape[0])\n",
    "        \n",
    "print(\"accuracy: \", accuracy_score(y_pred_thresh, y_test))\n",
    "print(\"f1_score: \", f1_score(y_pred_thresh, y_test))\n",
    "print(\"precision: \", precision_score(y_pred_thresh, y_test))\n",
    "print(\"recall: \", recall_score(y_pred_thresh, y_test))\n",
    "\n",
    "pr, re, _ = precision_recall_curve(y_test, y_pred)\n",
    "\n",
    "# plot the precision-recall curves\n",
    "plt.plot(re, pr, marker='.', label='CNN')\n",
    "plt.xlabel('recall')\n",
    "plt.ylabel('precision')\n",
    "plt.title('CNN PR Curve')\n"
   ]
  },
  {
   "cell_type": "code",
   "execution_count": 93,
   "metadata": {},
   "outputs": [],
   "source": [
    "small_x_test = X_test[1000:2000]\n",
    "small_y_test = y_test[1000:2000]\n",
    "np.save('small_x_data.npy', small_x_test)\n",
    "np.save('small_y_data.npy', small_y_test)"
   ]
  },
  {
   "cell_type": "code",
   "execution_count": null,
   "metadata": {},
   "outputs": [],
   "source": []
  }
 ],
 "metadata": {
  "colab": {
   "name": "SVM_0.1.ipynb",
   "provenance": []
  },
  "kernelspec": {
   "display_name": "Python 3",
   "language": "python",
   "name": "python3"
  },
  "language_info": {
   "codemirror_mode": {
    "name": "ipython",
    "version": 3
   },
   "file_extension": ".py",
   "mimetype": "text/x-python",
   "name": "python",
   "nbconvert_exporter": "python",
   "pygments_lexer": "ipython3",
   "version": "3.8.10"
  }
 },
 "nbformat": 4,
 "nbformat_minor": 1
}
