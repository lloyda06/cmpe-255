{
 "cells": [
  {
   "cell_type": "code",
   "execution_count": 1,
   "id": "be884e2e",
   "metadata": {},
   "outputs": [],
   "source": [
    "import numpy as np\n",
    "import scipy as sp\n",
    "%matplotlib inline\n",
    "import matplotlib.pyplot as plt\n",
    "\n",
    "from sklearn import metrics\n",
    "import os\n",
    "\n",
    "import tensorflow as tf \n",
    "from tensorflow.keras.layers import Conv2D, BatchNormalization, Input, Dense, GlobalAveragePooling2D\n",
    "from tensorflow.keras.models import Model\n",
    "\n",
    "from sklearn.metrics import precision_recall_curve\n",
    "from sklearn.metrics import accuracy_score\n",
    "from sklearn.metrics import f1_score\n",
    "from sklearn.metrics import precision_score\n",
    "from sklearn.metrics import recall_score"
   ]
  },
  {
   "cell_type": "code",
   "execution_count": 2,
   "id": "b9b6abbc",
   "metadata": {},
   "outputs": [
    {
     "name": "stdout",
     "output_type": "stream",
     "text": [
      "Model: \"functional_1\"\n",
      "_________________________________________________________________\n",
      "Layer (type)                 Output Shape              Param #   \n",
      "=================================================================\n",
      "input_1 (InputLayer)         [(None, 256, 256, 3)]     0         \n",
      "_________________________________________________________________\n",
      "conv2d (Conv2D)              (None, 254, 254, 16)      448       \n",
      "_________________________________________________________________\n",
      "batch_normalization (BatchNo (None, 254, 254, 16)      64        \n",
      "_________________________________________________________________\n",
      "conv2d_1 (Conv2D)            (None, 126, 126, 32)      4640      \n",
      "_________________________________________________________________\n",
      "batch_normalization_1 (Batch (None, 126, 126, 32)      128       \n",
      "_________________________________________________________________\n",
      "conv2d_2 (Conv2D)            (None, 62, 62, 64)        18496     \n",
      "_________________________________________________________________\n",
      "batch_normalization_2 (Batch (None, 62, 62, 64)        256       \n",
      "_________________________________________________________________\n",
      "conv2d_3 (Conv2D)            (None, 30, 30, 64)        36928     \n",
      "_________________________________________________________________\n",
      "batch_normalization_3 (Batch (None, 30, 30, 64)        256       \n",
      "_________________________________________________________________\n",
      "global_average_pooling2d (Gl (None, 64)                0         \n",
      "_________________________________________________________________\n",
      "dense (Dense)                (None, 1)                 65        \n",
      "=================================================================\n",
      "Total params: 61,281\n",
      "Trainable params: 60,929\n",
      "Non-trainable params: 352\n",
      "_________________________________________________________________\n"
     ]
    }
   ],
   "source": [
    "def construct_model():\n",
    "\n",
    "    model_input = Input(shape=(256, 256, 3))\n",
    "    x = Conv2D(16, kernel_size=3, activation='relu')(model_input)\n",
    "    x = BatchNormalization()(x)\n",
    "\n",
    "    x = Conv2D(32, kernel_size=3, activation='relu', strides=2)(x)\n",
    "    x = BatchNormalization()(x)\n",
    "\n",
    "    x = Conv2D(64, kernel_size=3, activation='relu', strides=2)(x)\n",
    "    x = BatchNormalization()(x)\n",
    "\n",
    "    x = Conv2D(64, kernel_size=3, activation='relu', strides=2)(x)\n",
    "    x = BatchNormalization()(x)\n",
    "    x = GlobalAveragePooling2D()(x)\n",
    "\n",
    "    model_output = Dense(1, activation='sigmoid')(x)\n",
    "\n",
    "    return Model(inputs=[model_input], outputs=[model_output])\n",
    "\n",
    "model = construct_model()\n",
    "model.summary()"
   ]
  },
  {
   "cell_type": "code",
   "execution_count": 10,
   "id": "c3814076",
   "metadata": {},
   "outputs": [],
   "source": [
    "model.load_weights('concrete_0.2.h5')\n",
    "x_test = np.load('small_x_data.npy')\n",
    "y_test = np.load('small_y_data.npy')"
   ]
  },
  {
   "cell_type": "code",
   "execution_count": 11,
   "id": "9ea559dc",
   "metadata": {},
   "outputs": [
    {
     "name": "stdout",
     "output_type": "stream",
     "text": [
      "accuracy:  0.854\n",
      "f1_score:  0.18888888888888888\n",
      "precision:  0.10759493670886076\n",
      "recall:  0.7727272727272727\n"
     ]
    },
    {
     "data": {
      "text/plain": [
       "Text(0.5, 1.0, 'CNN PR Curve')"
      ]
     },
     "execution_count": 11,
     "metadata": {},
     "output_type": "execute_result"
    },
    {
     "data": {
      "image/png": "[encoded data removed]",
      "text/plain": [
       "<Figure size 432x288 with 1 Axes>"
      ]
     },
     "metadata": {
      "needs_background": "light"
     },
     "output_type": "display_data"
    }
   ],
   "source": [
    "y_pred = model.predict(x_test)\n",
    "y_pred_thresh = y_pred > 0.5\n",
    "\n",
    "print(\"accuracy: \", accuracy_score(y_pred_thresh, y_test))\n",
    "print(\"f1_score: \", f1_score(y_pred_thresh, y_test))\n",
    "print(\"precision: \", precision_score(y_pred_thresh, y_test))\n",
    "print(\"recall: \", recall_score(y_pred_thresh, y_test))\n",
    "\n",
    "pr, re, _ = precision_recall_curve(y_test, y_pred)\n",
    "\n",
    "# plot the precision-recall curves\n",
    "plt.plot(re, pr, marker='.', label='CNN')\n",
    "plt.xlabel('recall')\n",
    "plt.ylabel('precision')\n",
    "plt.title('CNN PR Curve')"
   ]
  },
  {
   "cell_type": "code",
   "execution_count": null,
   "id": "e6e89fdd",
   "metadata": {},
   "outputs": [],
   "source": []
  }
 ],
 "metadata": {
  "kernelspec": {
   "display_name": "Python 3",
   "language": "python",
   "name": "python3"
  },
  "language_info": {
   "codemirror_mode": {
    "name": "ipython",
    "version": 3
   },
   "file_extension": ".py",
   "mimetype": "text/x-python",
   "name": "python",
   "nbconvert_exporter": "python",
   "pygments_lexer": "ipython3",
   "version": "3.8.10"
  }
 },
 "nbformat": 4,
 "nbformat_minor": 5
}
