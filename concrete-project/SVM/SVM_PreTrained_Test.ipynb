{
 "cells": [
  {
   "cell_type": "markdown",
   "metadata": {
    "id": "YTHnJHr_jkD1"
   },
   "source": [
    "**This notebook loads the pre-trained classifier model and a small set of test data to predict the labels on**"
   ]
  },
  {
   "cell_type": "code",
   "execution_count": 8,
   "metadata": {
    "id": "2R4Uv7zki5Tf"
   },
   "outputs": [],
   "source": [
    "import numpy as np\n",
    "import scipy as sp\n",
    "import pandas as pd\n",
    "import sklearn as sk\n",
    "import PIL\n",
    "import random\n",
    "import cv2\n",
    "%matplotlib inline\n",
    "import matplotlib.pyplot as plt\n",
    "\n",
    "from sklearn import metrics\n",
    "from sklearn.metrics import plot_confusion_matrix, f1_score, make_scorer, confusion_matrix\n",
    "from collections import defaultdict\n",
    "from sklearn.decomposition import PCA, TruncatedSVD\n",
    "from sklearn.preprocessing import StandardScaler, Normalizer\n",
    "from sklearn.pipeline import make_pipeline\n",
    "from time import time, perf_counter, perf_counter_ns\n",
    "from sklearn.svm import SVC\n",
    "from os import listdir\n",
    "from joblib import dump, load"
   ]
  },
  {
   "cell_type": "code",
   "execution_count": 9,
   "metadata": {
    "id": "PrPeFtgYjeyb"
   },
   "outputs": [],
   "source": [
    "#Load PCA, SVC Model, and Test Data\n",
    "path = \"\"\n",
    "pca_fn = \"PCA_small.joblib\"\n",
    "svc_fn = \"SVC_small.joblib\"\n",
    "testdata_fn = \"XY_Test_small.npz\"\n",
    "pca = load(path + pca_fn)\n",
    "svc = load(path + svc_fn)\n",
    "npz = np.load(path + testdata_fn)\n",
    "X_test = npz[npz.files[0]]\n",
    "y_test = npz[npz.files[1]]"
   ]
  },
  {
   "cell_type": "code",
   "execution_count": 10,
   "metadata": {
    "colab": {
     "base_uri": "https://localhost:8080/",
     "height": 466
    },
    "id": "XbDHR16SmQAx",
    "outputId": "d14a6762-893f-4fff-c882-fca36bfb9eb2"
   },
   "outputs": [
    {
     "name": "stdout",
     "output_type": "stream",
     "text": [
      "F1 Score -> 0.284398388025331\n",
      "              precision    recall  f1-score   support\n",
      "\n",
      "           C       0.18      0.74      0.28       670\n",
      "           U       0.87      0.35      0.50      3537\n",
      "\n",
      "    accuracy                           0.41      4207\n",
      "   macro avg       0.53      0.54      0.39      4207\n",
      "weighted avg       0.76      0.41      0.46      4207\n",
      "\n"
     ]
    },
    {
     "data": {
      "text/plain": [
       "<sklearn.metrics._plot.confusion_matrix.ConfusionMatrixDisplay at 0x104de3400>"
      ]
     },
     "execution_count": 10,
     "metadata": {},
     "output_type": "execute_result"
    },
    {
     "data": {
      "image/png": "[encoded data removed]",
      "text/plain": [
       "<Figure size 432x288 with 2 Axes>"
      ]
     },
     "metadata": {
      "needs_background": "light"
     },
     "output_type": "display_data"
    }
   ],
   "source": [
    "X_test_pca = pca.transform(X_test)\n",
    "y_pred = svc.predict(X_test_pca)\n",
    "#F1 Score\n",
    "f1 = f1_score(y_test, y_pred, pos_label='C')\n",
    "print(\"F1 Score ->\", f1)\n",
    "#Classification report\n",
    "report = metrics.classification_report(y_test, y_pred, labels=['C','U'])\n",
    "print(report)\n",
    "#Plot the confusion matrix\n",
    "conf = confusion_matrix(y_test, y_pred, labels=['C','U'])\n",
    "disp = metrics.ConfusionMatrixDisplay(confusion_matrix=conf, display_labels=['C','U'])\n",
    "disp.plot(cmap=plt.cm.Blues)"
   ]
  }
 ],
 "metadata": {
  "colab": {
   "name": "SVM_PreTrained_Test.ipynb",
   "provenance": []
  },
  "kernelspec": {
   "display_name": "Python 3",
   "language": "python",
   "name": "python3"
  },
  "language_info": {
   "codemirror_mode": {
    "name": "ipython",
    "version": 3
   },
   "file_extension": ".py",
   "mimetype": "text/x-python",
   "name": "python",
   "nbconvert_exporter": "python",
   "pygments_lexer": "ipython3",
   "version": "3.8.3"
  }
 },
 "nbformat": 4,
 "nbformat_minor": 1
}
